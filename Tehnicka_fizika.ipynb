{
 "cells": [
  {
   "cell_type": "markdown",
   "metadata": {},
   "source": [
    "# 1. vеžba - Određivanje gustine tečnosti"
   ]
  },
  {
   "cell_type": "markdown",
   "metadata": {},
   "source": [
    "## Metod piknometra"
   ]
  },
  {
   "cell_type": "code",
   "execution_count": null,
   "metadata": {},
   "outputs": [],
   "source": [
    "m0 =  #### masa praznog piknometra, uneti vrednost u gramima\n",
    "mg =  #### masa piknometra napunjenog glicerinom, uneti vrednost u gramima\n",
    "mv =  #### masa piknometra napunjenog vodm, uneti vrednost u gramima\n",
    "rhov =  #### gustina vode, uneti vrednost u g/cm^3 ili kg/m^3\n",
    "\n",
    "dm0 =  #### greska merenja mase praznog piknometra\n",
    "dmg =  #### greska merenja mase piknometra sa glicerinom\n",
    "dmv =  #### greska merenja mase piknometra sa vodom"
   ]
  },
  {
   "cell_type": "code",
   "execution_count": null,
   "metadata": {},
   "outputs": [],
   "source": [
    "rho = ((mg-mv)/(mv-m0))*rhov\n",
    "delrho = ((dmg+dm0)/(mg-m0))+((dmv+dm0)/(mv-m0))\n",
    "drho=rho*delrho"
   ]
  },
  {
   "cell_type": "code",
   "execution_count": null,
   "metadata": {},
   "outputs": [],
   "source": [
    "print(u'Gustina tečnosti iznosi ρ = '+str(rho)+' g/cm^3')"
   ]
  },
  {
   "cell_type": "code",
   "execution_count": null,
   "metadata": {},
   "outputs": [],
   "source": [
    "print(u'δρ = '+str(delrho)+' g/cm^3')"
   ]
  },
  {
   "cell_type": "code",
   "execution_count": null,
   "metadata": {},
   "outputs": [],
   "source": [
    "print(u'Greška za vrednost gustine tečnosti iznosi Δρ = '+str(drho)+' g/cm^3')"
   ]
  },
  {
   "cell_type": "markdown",
   "metadata": {},
   "source": [
    "## Metod Morove vage"
   ]
  },
  {
   "cell_type": "code",
   "execution_count": null,
   "metadata": {},
   "outputs": [],
   "source": [
    "fv = \n",
    "fg = \n",
    "rhov = \n",
    "dfv = \n",
    "dfg = "
   ]
  },
  {
   "cell_type": "code",
   "execution_count": null,
   "metadata": {},
   "outputs": [],
   "source": [
    "rhog = rhov*(fg/fv)\n",
    "drhog = rhog*((dfv/fv)+(dfg/fg))"
   ]
  },
  {
   "cell_type": "code",
   "execution_count": null,
   "metadata": {},
   "outputs": [],
   "source": [
    "print(u'Gustina tečnosti iznosi ρ = '+str(rhog)+' g/cm^3')"
   ]
  },
  {
   "cell_type": "code",
   "execution_count": null,
   "metadata": {},
   "outputs": [],
   "source": [
    "print(u'Greška za vrednost gustine tečnosti iznosi Δρ = '+str(drhog)+' g/cm^3')"
   ]
  },
  {
   "cell_type": "markdown",
   "metadata": {},
   "source": [
    "# 2. vežba - Određivanje ubrzanja Zemljine teže"
   ]
  },
  {
   "cell_type": "code",
   "execution_count": null,
   "metadata": {},
   "outputs": [],
   "source": [
    "import numpy as np"
   ]
  },
  {
   "cell_type": "code",
   "execution_count": null,
   "metadata": {},
   "outputs": [],
   "source": [
    "l = np.array([]) #### uneti merenja l u metrima\n",
    "n = 30 #### broj oscilacija\n",
    "t = np.array([]) #### uneti merenja vremena oscilacija u sekundama"
   ]
  },
  {
   "cell_type": "code",
   "execution_count": null,
   "metadata": {},
   "outputs": [],
   "source": [
    "period = t/n\n",
    "periodkv = period**2"
   ]
  },
  {
   "cell_type": "code",
   "execution_count": null,
   "metadata": {},
   "outputs": [],
   "source": [
    "from scipy.optimize import curve_fit"
   ]
  },
  {
   "cell_type": "code",
   "execution_count": null,
   "metadata": {},
   "outputs": [],
   "source": [
    "def funk(x,k):\n",
    "    return k*x"
   ]
  },
  {
   "cell_type": "code",
   "execution_count": null,
   "metadata": {},
   "outputs": [],
   "source": [
    "popt, pcov = curve_fit(funk, l, periodkv)"
   ]
  },
  {
   "cell_type": "code",
   "execution_count": null,
   "metadata": {},
   "outputs": [],
   "source": [
    "a = round(popt[0],6)\n",
    "da = round(np.sqrt(pcov[0,0]),6)\n",
    "print('a = '+str(a)+' s^2/m')\n",
    "print('Δa = '+str(da)+' s^2/m')"
   ]
  },
  {
   "cell_type": "code",
   "execution_count": null,
   "metadata": {},
   "outputs": [],
   "source": [
    "g = (4.0*np.pi*np.pi)/(a)\n",
    "dg = g*(da/a)\n",
    "print(u'Ubrzanje Zemljine tezhe iznosi g = '+str(g)+' m/s^2')\n",
    "print(u'Greska za vrednost ubrzanja Zemljine teze iznosi Δg = '+str(dg)+' m/s^2')"
   ]
  },
  {
   "cell_type": "markdown",
   "metadata": {},
   "source": [
    "# 3. vežba - Određivanje Jungovog modula elastičnosti"
   ]
  },
  {
   "cell_type": "code",
   "execution_count": null,
   "metadata": {},
   "outputs": [],
   "source": [
    "l = \n",
    "dl = \n",
    "d = \n",
    "dd = "
   ]
  },
  {
   "cell_type": "code",
   "execution_count": null,
   "metadata": {},
   "outputs": [],
   "source": [
    "dodmasa = np.array([]) #### dodatna masa tegova u kg\n",
    "polnonijus = np.array([])/1000 #### polozaj nonijusa u mm"
   ]
  },
  {
   "cell_type": "code",
   "execution_count": null,
   "metadata": {},
   "outputs": [],
   "source": [
    "from scipy.optimize import curve_fit"
   ]
  },
  {
   "cell_type": "code",
   "execution_count": null,
   "metadata": {},
   "outputs": [],
   "source": [
    "def funk(x,k):\n",
    "    return k*x"
   ]
  },
  {
   "cell_type": "code",
   "execution_count": null,
   "metadata": {},
   "outputs": [],
   "source": [
    "popt, pcov = curve_fit(funk, dodmasa, polnonijus)"
   ]
  },
  {
   "cell_type": "code",
   "execution_count": null,
   "metadata": {},
   "outputs": [],
   "source": [
    "a = round(popt[0],6)\n",
    "da = round(np.sqrt(pcov[0,0]),6)\n",
    "print('a = '+str(a))\n",
    "print('Δa = '+str(da))"
   ]
  },
  {
   "cell_type": "code",
   "execution_count": null,
   "metadata": {},
   "outputs": [],
   "source": [
    "Emod = (4.0*9.81*l)/(np.pi*d*d*a)\n",
    "dEmod = Emod*((dl/l)+2.0*(dd/d)+(da/a))\n",
    "print('Jungov moduo iznosi E = '+str(Emod)+' Pa')\n",
    "print('Greska odredjivanja Jungovog modula iznosi ΔE = '+str(dEmod)+' Pa')"
   ]
  },
  {
   "cell_type": "markdown",
   "metadata": {},
   "source": [
    "# 4. vezba - Odredjivanje Avogadrovog broja"
   ]
  },
  {
   "cell_type": "code",
   "execution_count": null,
   "metadata": {},
   "outputs": [],
   "source": [
    "struja = \n",
    "t = \n",
    "m2 = \n",
    "m1 =\n",
    "G = \n",
    "dt = \n",
    "dm1 = \n",
    "dm2 = \n",
    "dm = dm1 + dm2"
   ]
  },
  {
   "cell_type": "code",
   "execution_count": null,
   "metadata": {},
   "outputs": [],
   "source": [
    "nav = (struja*t*63.6e-3)/(2.0*1.609e-19*(m2-m1)) \n",
    "dnav = nav*((G/struja)+(dt/t)+(dm/(m2-m1)))"
   ]
  },
  {
   "cell_type": "code",
   "execution_count": null,
   "metadata": {},
   "outputs": [],
   "source": [
    "print('Avogadrov broj iznosi Na = '+str(nav)+' 1/mol') \n",
    "print('Greska za Avogadrov broj iznosi ΔNa = '+str(dnav)+' 1/mol')"
   ]
  },
  {
   "cell_type": "markdown",
   "metadata": {},
   "source": [
    "# 5. vezba - Odredjivanje koeficijenta viskoznosti"
   ]
  },
  {
   "cell_type": "markdown",
   "metadata": {},
   "source": [
    "## Stoksov metod"
   ]
  },
  {
   "cell_type": "code",
   "execution_count": null,
   "metadata": {},
   "outputs": [],
   "source": [
    "g = 9.81\n",
    "rho = \n",
    "rhot = \n",
    "r = \n",
    "l = \n",
    "dr = 0.005/1000 #### 0.01/2 mm\n",
    "dl = 0.5/1000 #### 1/2 mm\n",
    "tab = \n",
    "dtab = "
   ]
  },
  {
   "cell_type": "code",
   "execution_count": null,
   "metadata": {},
   "outputs": [],
   "source": [
    "eta = (2.0/9.0)*((9.81*(rho-rhot)*r*r*t)/(l))\n",
    "deta = eta*((2.0*(dr/r))+(dt/t)+(dl/l))"
   ]
  },
  {
   "cell_type": "code",
   "execution_count": null,
   "metadata": {},
   "outputs": [],
   "source": [
    "print('Koeficijent viskoznosti dobijen Stoksovim metodom iznosi eta = '+str(eta)+' Pa s')\n",
    "print('Greska za koeficijent viskoznosti dobijen Stoksovim metodom iznosi Δeta = '+str(deta)+' Pa s')"
   ]
  },
  {
   "cell_type": "markdown",
   "metadata": {},
   "source": [
    "## Ostvaldov metod"
   ]
  },
  {
   "cell_type": "code",
   "execution_count": null,
   "metadata": {},
   "outputs": [],
   "source": [
    "tau1 = \n",
    "tau2 = \n",
    "rho1 = ### gustina za tau1\n",
    "rho2 = ### gustina za tau2\n",
    "eta1 = #### koeficijent viskoznosti za tau1\n",
    "dtau1 = #### greska merenja vremena tau1\n",
    "dtau2 = #### greska merenja vremena tau2"
   ]
  },
  {
   "cell_type": "code",
   "execution_count": null,
   "metadata": {},
   "outputs": [],
   "source": [
    "eta2 = eta1*(rho2/rho1)*(tau2/tau1)\n",
    "deta2 = eta2*((dtau1/tau1)+(dtau2/tau2))"
   ]
  },
  {
   "cell_type": "code",
   "execution_count": null,
   "metadata": {},
   "outputs": [],
   "source": [
    "print('Koeficijent viskoznosti dobijen Ostvaldovim metodom iznosi eta2 = '+str(eta2)+' Pa s')\n",
    "print('Greska za koeficijent viskoznosti dobijen Stoksovim metodom iznosi Δeta2 = '+str(deta2)+' Pa s')"
   ]
  }
 ],
 "metadata": {
  "kernelspec": {
   "display_name": "Python 3",
   "language": "python",
   "name": "python3"
  },
  "language_info": {
   "codemirror_mode": {
    "name": "ipython",
    "version": 3
   },
   "file_extension": ".py",
   "mimetype": "text/x-python",
   "name": "python",
   "nbconvert_exporter": "python",
   "pygments_lexer": "ipython3",
   "version": "3.8.10"
  }
 },
 "nbformat": 4,
 "nbformat_minor": 2
}
