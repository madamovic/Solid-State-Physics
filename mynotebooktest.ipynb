{
 "cells": [
  {
   "cell_type": "markdown",
   "metadata": {},
   "source": [
    "# 1. vеžba - Određivanje gustine tečnosti"
   ]
  },
  {
   "cell_type": "markdown",
   "metadata": {},
   "source": [
    "## Metod piknometra"
   ]
  },
  {
   "cell_type": "code",
   "execution_count": 2,
   "metadata": {},
   "outputs": [],
   "source": [
    "m0 = 23 #### masa praznog piknometra, uneti vrednost u gramima\n",
    "mg = 44 #### masa piknometra napunjenog glicerinom, uneti vrednost u gramima\n",
    "mv = 33 #### masa piknometra napunjenog vodm, uneti vrednost u gramima\n",
    "rhov = 0.99 #### gustina vode, uneti vrednost u g/cm^3 ili kg/m^3\n",
    "\n",
    "dm0 = 0.01 #### greska merenja mase praznog piknometra\n",
    "dmg = 0.01 #### greska merenja mase piknometra sa glicerinom\n",
    "dmv = 0.01 #### greska merenja mase piknometra sa vodom"
   ]
  },
  {
   "cell_type": "code",
   "execution_count": 3,
   "metadata": {},
   "outputs": [],
   "source": [
    "rho = ((mg-mv)/(mv-m0))*rhov\n",
    "delrho = ((dmg+dm0)/(mg-m0))+((dmv+dm0)/(mv-m0))\n",
    "drho=rho*delrho"
   ]
  },
  {
   "cell_type": "code",
   "execution_count": 4,
   "metadata": {},
   "outputs": [
    {
     "name": "stdout",
     "output_type": "stream",
     "text": [
      "1.089\n"
     ]
    }
   ],
   "source": [
    "print(rho)"
   ]
  },
  {
   "cell_type": "code",
   "execution_count": 5,
   "metadata": {},
   "outputs": [
    {
     "name": "stdout",
     "output_type": "stream",
     "text": [
      "0.0029523809523809524\n"
     ]
    }
   ],
   "source": [
    "print(delrho)"
   ]
  },
  {
   "cell_type": "code",
   "execution_count": 6,
   "metadata": {},
   "outputs": [
    {
     "name": "stdout",
     "output_type": "stream",
     "text": [
      "0.003215142857142857\n"
     ]
    }
   ],
   "source": [
    "print(drho)"
   ]
  },
  {
   "cell_type": "markdown",
   "metadata": {},
   "source": [
    "## Metod Morove vage"
   ]
  },
  {
   "cell_type": "code",
   "execution_count": null,
   "metadata": {},
   "outputs": [],
   "source": [
    "fv = \n",
    "fg = \n",
    "rhov = \n",
    "dfv = \n",
    "dfg = "
   ]
  },
  {
   "cell_type": "code",
   "execution_count": null,
   "metadata": {},
   "outputs": [],
   "source": [
    "rhog = rhov*(fg/fv)\n",
    "drhog = rhog*((dfv/fv)+(dfg/fg))"
   ]
  },
  {
   "cell_type": "code",
   "execution_count": null,
   "metadata": {},
   "outputs": [],
   "source": [
    "print(rhog)"
   ]
  },
  {
   "cell_type": "code",
   "execution_count": null,
   "metadata": {},
   "outputs": [],
   "source": [
    "print(drhog)"
   ]
  },
  {
   "cell_type": "markdown",
   "metadata": {},
   "source": [
    "# 2. vežba - Određivanje ubrzanja Zemljine teže"
   ]
  },
  {
   "cell_type": "code",
   "execution_count": 38,
   "metadata": {},
   "outputs": [],
   "source": [
    "import numpy as np"
   ]
  },
  {
   "cell_type": "code",
   "execution_count": 39,
   "metadata": {},
   "outputs": [],
   "source": [
    "l = np.array([1,2,3,4,5]) #### uneti merenja l u metrima\n",
    "n = 30 #### broj oscilacija\n",
    "t = np.array([10,20,30,40,50]) #### uneti merenja vremena oscilacija u sekundama"
   ]
  },
  {
   "cell_type": "code",
   "execution_count": 40,
   "metadata": {},
   "outputs": [],
   "source": [
    "period = t/n\n",
    "periodkv = period**2"
   ]
  },
  {
   "cell_type": "code",
   "execution_count": 41,
   "metadata": {},
   "outputs": [],
   "source": [
    "from scipy.optimize import curve_fit"
   ]
  },
  {
   "cell_type": "code",
   "execution_count": 42,
   "metadata": {},
   "outputs": [],
   "source": [
    "def funk(x,k):\n",
    "    return k*x"
   ]
  },
  {
   "cell_type": "code",
   "execution_count": 43,
   "metadata": {},
   "outputs": [],
   "source": [
    "popt, pcov = curve_fit(funk, l, periodkv)"
   ]
  },
  {
   "cell_type": "code",
   "execution_count": 44,
   "metadata": {},
   "outputs": [
    {
     "name": "stdout",
     "output_type": "stream",
     "text": [
      "0.454545\n",
      "0.057318\n"
     ]
    }
   ],
   "source": [
    "a = round(popt[0],6)\n",
    "da = round(np.sqrt(pcov[0,0]),6)\n",
    "print(a)\n",
    "print(da)"
   ]
  },
  {
   "cell_type": "code",
   "execution_count": 49,
   "metadata": {},
   "outputs": [
    {
     "name": "stdout",
     "output_type": "stream",
     "text": [
      "Ubrzanje Zemljine tezhe iznosi g = 86.85260558219194 m/s^2\n",
      "Greska za vrednost ubrzanja Zemljine teze iznosi Δg = 10.952089774961946 m/s^2\n"
     ]
    }
   ],
   "source": [
    "g = (4.0*np.pi*np.pi)/(a)\n",
    "dg = g*(da/a)\n",
    "print('Ubrzanje Zemljine tezhe iznosi g = '+str(g)+' m/s^2')\n",
    "print('Greska za vrednost ubrzanja Zemljine teze iznosi Δg = '+str(dg)+' m/s^2')"
   ]
  },
  {
   "cell_type": "markdown",
   "metadata": {},
   "source": [
    "# 3. vežba - Određivanje Jungovog modula elastičnosti"
   ]
  },
  {
   "cell_type": "code",
   "execution_count": 52,
   "metadata": {},
   "outputs": [],
   "source": [
    "l = \n",
    "dl = \n",
    "d = \n",
    "dd = "
   ]
  },
  {
   "cell_type": "code",
   "execution_count": null,
   "metadata": {},
   "outputs": [],
   "source": [
    "dodmasa = np.array([]) #### dodatna masa tegova u kg\n",
    "polnonijus = np.array([])/1000 #### polozaj nonijusa u mm"
   ]
  },
  {
   "cell_type": "code",
   "execution_count": null,
   "metadata": {},
   "outputs": [],
   "source": [
    "from scipy.optimize import curve_fit"
   ]
  },
  {
   "cell_type": "code",
   "execution_count": null,
   "metadata": {},
   "outputs": [],
   "source": [
    "def funk(x,k):\n",
    "    return k*x"
   ]
  },
  {
   "cell_type": "code",
   "execution_count": null,
   "metadata": {},
   "outputs": [],
   "source": [
    "popt, pcov = curve_fit(funk, dodmasa, polnonijus)"
   ]
  },
  {
   "cell_type": "code",
   "execution_count": null,
   "metadata": {},
   "outputs": [],
   "source": [
    "a = round(popt[0],6)\n",
    "da = round(np.sqrt(pcov[0,0]),6)\n",
    "print('a = '+str(a))\n",
    "print('Δa = '+str(da))"
   ]
  },
  {
   "cell_type": "code",
   "execution_count": null,
   "metadata": {},
   "outputs": [],
   "source": [
    "Emod = (4.0*9.81*l)/(np.pi*d*d*a)\n",
    "dEmod = Emod*((dl/l)+2.0*(dd/d)+(da/a))\n",
    "print('Jungov moduo iznosi E = '+str(Emod)+' Pa')\n",
    "print('Greska odredjivanja Jungovog modula iznosi ΔE = '+str(dEmod)+' Pa')"
   ]
  },
  {
   "cell_type": "code",
   "execution_count": null,
   "metadata": {},
   "outputs": [],
   "source": []
  }
 ],
 "metadata": {
  "kernelspec": {
   "display_name": "Python 3",
   "language": "python",
   "name": "python3"
  },
  "language_info": {
   "codemirror_mode": {
    "name": "ipython",
    "version": 3
   },
   "file_extension": ".py",
   "mimetype": "text/x-python",
   "name": "python",
   "nbconvert_exporter": "python",
   "pygments_lexer": "ipython3",
   "version": "3.8.10"
  }
 },
 "nbformat": 4,
 "nbformat_minor": 2
}
